{
 "cells": [
  {
   "cell_type": "markdown",
   "id": "de69cafd",
   "metadata": {},
   "source": [
    "### Используемые библиотеки"
   ]
  },
  {
   "cell_type": "code",
   "execution_count": 33,
   "id": "c6677c33",
   "metadata": {},
   "outputs": [],
   "source": [
    "import pandas as pd\n",
    "from skopt import BayesSearchCV\n",
    "from skopt.space import Categorical\n",
    "from sklearn.preprocessing import StandardScaler\n",
    "from sklearn.neighbors import KNeighborsRegressor\n",
    "from sklearn.metrics import r2_score, root_mean_squared_error\n",
    "from sklearn.ensemble import RandomForestRegressor, GradientBoostingRegressor\n",
    "from sklearn.model_selection import train_test_split\n",
    "from sklearn.feature_selection import SelectKBest, mutual_info_regression"
   ]
  },
  {
   "cell_type": "code",
   "execution_count": 34,
   "id": "657a97a7",
   "metadata": {},
   "outputs": [],
   "source": [
    "# считываем обработанные данные\n",
    "df = pd.read_csv(\"data.csv\")\n",
    "df_y = df[['IC50, mM', 'CC50, mM', 'SI']]\n",
    "df_x = df.drop(columns=['IC50, mM', 'CC50, mM', 'SI'])"
   ]
  },
  {
   "cell_type": "markdown",
   "id": "f7eab770",
   "metadata": {},
   "source": [
    "### Регрессия IC50"
   ]
  },
  {
   "cell_type": "code",
   "execution_count": 35,
   "id": "02c7d1d8",
   "metadata": {},
   "outputs": [],
   "source": [
    "# датасет для сравнения метрик по каждой из модели\n",
    "metrics = pd.DataFrame(columns=[\"Среднеквадратичная ошибка\",\n",
    "                                \"Коэффициент детерминации\",\n",
    "                                \"Коэффициент детерминации при обучение\"]\n",
    "                                )"
   ]
  },
  {
   "cell_type": "code",
   "execution_count": 36,
   "id": "a8d20ede",
   "metadata": {},
   "outputs": [
    {
     "name": "stdout",
     "output_type": "stream",
     "text": [
      "Тренеровочные данные: (772, 50), (772,)\n",
      "Tестовые данные: (194, 50), (194,)\n"
     ]
    }
   ],
   "source": [
    "# избавимся от лишних признаков, выделим целевую переменную и добавим дополнительный признак\n",
    "y_data = df_y['IC50, mM']\n",
    "x_data = df_x\n",
    "x_data['CC50, mM'] = df_y['CC50, mM']\n",
    "\n",
    "# сократим количество признаков до 50 с помощью Mutual Info\n",
    "selector = SelectKBest(score_func=mutual_info_regression, k=50)\n",
    "select_x_data = selector.fit_transform(x_data, y_data)\n",
    "selected_features = x_data.columns[selector.get_support()]\n",
    "x_data = pd.DataFrame(select_x_data, columns=selected_features)\n",
    "\n",
    "# разделим данные на тестовыые и тренировочные\n",
    "X_train, X_test, y_train, y_test = train_test_split(x_data, y_data, test_size=0.2, random_state=42)\n",
    "print(f'Тренеровочные данные: {X_train.shape}, {y_train.shape}')\n",
    "print(f'Tестовые данные: {X_test.shape}, {y_test.shape}')\n",
    "\n",
    "# стандартизируем данные train\n",
    "scaler = StandardScaler()\n",
    "tmp_data = scaler.fit_transform(X_train)\n",
    "scaled_X_train = pd.DataFrame(tmp_data, columns=x_data.columns)\n",
    "\n",
    "# стандартизируем данные test\n",
    "tmp_data = scaler.transform(X_test)\n",
    "scaled_X_test = pd.DataFrame(tmp_data, columns=x_data.columns)"
   ]
  },
  {
   "cell_type": "markdown",
   "id": "624dab92",
   "metadata": {},
   "source": [
    "#### RandomForestRegressor"
   ]
  },
  {
   "cell_type": "code",
   "execution_count": 37,
   "id": "3bd10be6",
   "metadata": {},
   "outputs": [
    {
     "name": "stdout",
     "output_type": "stream",
     "text": [
      "R² = 0.5337\n",
      "\n",
      "Лучшие параметры модели:\n",
      "bootstrap = False\n",
      "max_depth = 47\n",
      "max_features = sqrt\n",
      "min_samples_leaf = 3\n",
      "min_samples_split = 16\n",
      "n_estimators = 218\n"
     ]
    }
   ],
   "source": [
    "# определим пространство гиперпараметров для модели RandomForestRegressor\n",
    "param_space_rfr = {\n",
    "    'n_estimators': (50, 500),\n",
    "    'max_depth': (1, 50),\n",
    "    'min_samples_split': (2, 20),\n",
    "    'min_samples_leaf': (1, 10),\n",
    "    'max_features': Categorical(['sqrt', 'log2']),\n",
    "    'bootstrap': Categorical([True, False])\n",
    "}\n",
    "\n",
    "# создадим модель\n",
    "model = RandomForestRegressor(random_state=42)\n",
    "\n",
    "# оптимизируем с помощью Байесовского поиска\n",
    "bayes_search = BayesSearchCV(\n",
    "    estimator=model,\n",
    "    search_spaces=param_space_rfr,\n",
    "    n_iter=20,\n",
    "    cv=5,\n",
    "    scoring='r2',\n",
    "    n_jobs=-1,\n",
    "    random_state=42,\n",
    ")\n",
    "\n",
    "bayes_search.fit(scaled_X_train, y_train)\n",
    "\n",
    "# выведем показатели\n",
    "r2_model = round(bayes_search.best_score_, 4)\n",
    "print(f'R² = {r2_model}\\n')\n",
    "print('Лучшие параметры модели:')\n",
    "for k, v in bayes_search.best_params_.items():\n",
    "    print(f\"{k} = {v}\")\n",
    "\n",
    "# сохраним модель с наилучшими параметрами\n",
    "rfr_model = bayes_search.best_estimator_\n"
   ]
  },
  {
   "cell_type": "code",
   "execution_count": 38,
   "id": "c40170ed",
   "metadata": {},
   "outputs": [
    {
     "name": "stdout",
     "output_type": "stream",
     "text": [
      "Среднеквадратичная ошибка: 1.2439\n",
      "Коэффициент детерминации: 0.5718\n"
     ]
    }
   ],
   "source": [
    "# рассчитаем y\n",
    "y_pred = rfr_model.predict(scaled_X_test)\n",
    "\n",
    "# оценим метрики\n",
    "rmse = root_mean_squared_error(y_test, y_pred)\n",
    "r2 = r2_score(y_test, y_pred)\n",
    "\n",
    "print(f\"Среднеквадратичная ошибка: {round(rmse, 4)}\")\n",
    "print(f\"Коэффициент детерминации: {round(r2, 4)}\")\n",
    "\n",
    "# сохраним данные в таблицу\n",
    "res = {\"Среднеквадратичная ошибка\":round(rmse, 4),\n",
    "       \"Коэффициент детерминации\": round(r2, 4),\n",
    "       \"Коэффициент детерминации при обучение\": r2_model}\n",
    "metrics.loc[0] = res"
   ]
  },
  {
   "cell_type": "markdown",
   "id": "5307731f",
   "metadata": {},
   "source": [
    "#### GradientBoostingRegressor"
   ]
  },
  {
   "cell_type": "code",
   "execution_count": 39,
   "id": "0fcc055f",
   "metadata": {},
   "outputs": [
    {
     "name": "stdout",
     "output_type": "stream",
     "text": [
      "R² = 0.5437\n",
      "\n",
      "Лучшие параметры модели:\n",
      "max_depth = 4\n",
      "min_samples_leaf = 5\n",
      "min_samples_split = 3\n",
      "n_estimators = 194\n"
     ]
    }
   ],
   "source": [
    "# определим пространство гиперпараметров для модели GradientBoostingRegressor\n",
    "param_space_gbr = {\n",
    "    'n_estimators': (10, 200),\n",
    "    'max_depth': (1, 20),\n",
    "    'min_samples_split': (2, 10),\n",
    "    'min_samples_leaf': (1, 7),\n",
    "}\n",
    "\n",
    "# создадим модель\n",
    "model = GradientBoostingRegressor(random_state=42)\n",
    "\n",
    "# оптимизируем с помощью Байесовского поиска\n",
    "bayes_search = BayesSearchCV(\n",
    "    estimator=model,\n",
    "    search_spaces=param_space_gbr,\n",
    "    n_iter=20,\n",
    "    cv=5,\n",
    "    scoring='r2',\n",
    "    n_jobs=-1,\n",
    "    random_state=42,\n",
    ")\n",
    "\n",
    "bayes_search.fit(scaled_X_train, y_train)\n",
    "\n",
    "# выведем показатели\n",
    "r2_model = round(bayes_search.best_score_, 4)\n",
    "print(f'R² = {r2_model}\\n')\n",
    "print('Лучшие параметры модели:')\n",
    "for k, v in bayes_search.best_params_.items():\n",
    "    print(f\"{k} = {v}\")\n",
    "\n",
    "# сохраним модель с наилучшими параметрами\n",
    "gbr_model = bayes_search.best_estimator_"
   ]
  },
  {
   "cell_type": "code",
   "execution_count": 40,
   "id": "fbce2ac6",
   "metadata": {},
   "outputs": [
    {
     "name": "stdout",
     "output_type": "stream",
     "text": [
      "Среднеквадратичная ошибка: 1.253\n",
      "Коэффициент детерминации: 0.5656\n"
     ]
    }
   ],
   "source": [
    "# рассчитаем y\n",
    "y_pred = gbr_model.predict(scaled_X_test)\n",
    "\n",
    "# оценим метрики\n",
    "rmse = root_mean_squared_error(y_test, y_pred)\n",
    "r2 = r2_score(y_test, y_pred)\n",
    "\n",
    "print(f\"Среднеквадратичная ошибка: {round(rmse, 4)}\")\n",
    "print(f\"Коэффициент детерминации: {round(r2, 4)}\")\n",
    "\n",
    "# сохраним данные в таблицу\n",
    "res = {\"Среднеквадратичная ошибка\":round(rmse, 4),\n",
    "       \"Коэффициент детерминации\": round(r2, 4),\n",
    "       \"Коэффициент детерминации при обучение\": r2_model}\n",
    "metrics.loc[1] = res"
   ]
  },
  {
   "cell_type": "markdown",
   "id": "b58e3028",
   "metadata": {},
   "source": [
    "#### KNeighborsRegressor"
   ]
  },
  {
   "cell_type": "code",
   "execution_count": 41,
   "id": "dfc80fcb",
   "metadata": {},
   "outputs": [
    {
     "name": "stdout",
     "output_type": "stream",
     "text": [
      "R² = 0.3834\n",
      "\n",
      "Лучшие параметры модели:\n",
      "algorithm = auto\n",
      "leaf_size = 200\n",
      "n_neighbors = 12\n"
     ]
    }
   ],
   "source": [
    "# определим пространство гиперпараметров для модели KNeighborsRegressor\n",
    "param_space_knn = {\n",
    "    'n_neighbors': (10, 100),\n",
    "    'algorithm': Categorical([\"auto\", \"brute\"]),\n",
    "    'leaf_size': (50, 200),\n",
    "}\n",
    "\n",
    "# создадим модель\n",
    "model = KNeighborsRegressor()\n",
    "\n",
    "# оптимизируем с помощью Байесовского поиска\n",
    "bayes_search = BayesSearchCV(\n",
    "    estimator=model,\n",
    "    search_spaces=param_space_knn,\n",
    "    n_iter=20,\n",
    "    cv=5,\n",
    "    scoring='r2',\n",
    "    n_jobs=-1,\n",
    "    random_state=42,\n",
    ")\n",
    "\n",
    "bayes_search.fit(scaled_X_train, y_train)\n",
    "\n",
    "# выведем показатели\n",
    "r2_model = round(bayes_search.best_score_, 4)\n",
    "print(f'R² = {r2_model}\\n')\n",
    "print('Лучшие параметры модели:')\n",
    "for k, v in bayes_search.best_params_.items():\n",
    "    print(f\"{k} = {v}\")\n",
    "\n",
    "# сохраним модель с наилучшими параметрами\n",
    "knn_model = bayes_search.best_estimator_"
   ]
  },
  {
   "cell_type": "code",
   "execution_count": 42,
   "id": "48c53d2f",
   "metadata": {},
   "outputs": [
    {
     "name": "stdout",
     "output_type": "stream",
     "text": [
      "Среднеквадратичная ошибка: 1.4846\n",
      "Коэффициент детерминации: 0.3901\n"
     ]
    }
   ],
   "source": [
    "# рассчитаем y\n",
    "y_pred = knn_model.predict(scaled_X_test)\n",
    "\n",
    "# оценим метрики\n",
    "rmse = root_mean_squared_error(y_test, y_pred)\n",
    "r2 = r2_score(y_test, y_pred)\n",
    "\n",
    "print(f\"Среднеквадратичная ошибка: {round(rmse, 4)}\")\n",
    "print(f\"Коэффициент детерминации: {round(r2, 4)}\")\n",
    "\n",
    "# сохраним данные в таблицу\n",
    "res = {\"Среднеквадратичная ошибка\":round(rmse, 4),\n",
    "       \"Коэффициент детерминации\": round(r2, 4),\n",
    "       \"Коэффициент детерминации при обучение\": r2_model}\n",
    "metrics.loc[2] = res"
   ]
  },
  {
   "cell_type": "code",
   "execution_count": 43,
   "id": "77f11057",
   "metadata": {},
   "outputs": [
    {
     "data": {
      "text/html": [
       "<div>\n",
       "<style scoped>\n",
       "    .dataframe tbody tr th:only-of-type {\n",
       "        vertical-align: middle;\n",
       "    }\n",
       "\n",
       "    .dataframe tbody tr th {\n",
       "        vertical-align: top;\n",
       "    }\n",
       "\n",
       "    .dataframe thead th {\n",
       "        text-align: right;\n",
       "    }\n",
       "</style>\n",
       "<table border=\"1\" class=\"dataframe\">\n",
       "  <thead>\n",
       "    <tr style=\"text-align: right;\">\n",
       "      <th></th>\n",
       "      <th>Среднеквадратичная ошибка</th>\n",
       "      <th>Коэффициент детерминации</th>\n",
       "      <th>Коэффициент детерминации при обучение</th>\n",
       "    </tr>\n",
       "  </thead>\n",
       "  <tbody>\n",
       "    <tr>\n",
       "      <th>RandomForestRegressor</th>\n",
       "      <td>1.2439</td>\n",
       "      <td>0.5718</td>\n",
       "      <td>0.5337</td>\n",
       "    </tr>\n",
       "    <tr>\n",
       "      <th>GradientBoostingRegressor</th>\n",
       "      <td>1.2530</td>\n",
       "      <td>0.5656</td>\n",
       "      <td>0.5437</td>\n",
       "    </tr>\n",
       "    <tr>\n",
       "      <th>KNeighborsRegressor</th>\n",
       "      <td>1.4846</td>\n",
       "      <td>0.3901</td>\n",
       "      <td>0.3834</td>\n",
       "    </tr>\n",
       "  </tbody>\n",
       "</table>\n",
       "</div>"
      ],
      "text/plain": [
       "                           Среднеквадратичная ошибка  \\\n",
       "RandomForestRegressor                         1.2439   \n",
       "GradientBoostingRegressor                     1.2530   \n",
       "KNeighborsRegressor                           1.4846   \n",
       "\n",
       "                           Коэффициент детерминации  \\\n",
       "RandomForestRegressor                        0.5718   \n",
       "GradientBoostingRegressor                    0.5656   \n",
       "KNeighborsRegressor                          0.3901   \n",
       "\n",
       "                           Коэффициент детерминации при обучение  \n",
       "RandomForestRegressor                                     0.5337  \n",
       "GradientBoostingRegressor                                 0.5437  \n",
       "KNeighborsRegressor                                       0.3834  "
      ]
     },
     "execution_count": 43,
     "metadata": {},
     "output_type": "execute_result"
    }
   ],
   "source": [
    "metrics.index = ['RandomForestRegressor', 'GradientBoostingRegressor', 'KNeighborsRegressor']\n",
    "metrics.head()"
   ]
  },
  {
   "cell_type": "markdown",
   "id": "f254b4dc",
   "metadata": {},
   "source": [
    "#### Вывод\n",
    "Для целевой переменной IC50 были дообработанны данные:\n",
    "* Добавлен дополнительный признак CC50, mM в данные для обучения\n",
    "* Сокращено количество признаков до 50\n",
    "* Данные разделены на тестовые и тренировочные\n",
    "* Проведена стандартизация тренировочных данных и на её основе стандартизированы тестовые данные\n",
    "\n",
    "Затем были подобраны параметры и построены три модели:\n",
    "\n",
    "* RandomForestRegressor c параметрами:\n",
    "    - bootstrap = False\n",
    "    - max_depth = 47\n",
    "    - max_features = sqrt\n",
    "    - min_samples_leaf = 3\n",
    "    - min_samples_split = 16\n",
    "    - n_estimators = 218\n",
    "\n",
    "* GradientBoostingRegressor с параметрами:\n",
    "    - max_depth = 1\n",
    "    - min_samples_leaf = 5\n",
    "    - min_samples_split = 6\n",
    "    - n_estimators = 200\n",
    "\n",
    "* KNeighborsRegressor с параметрами:\n",
    "    - algorithm = auto\n",
    "    - leaf_size = 200\n",
    "    - n_neighbors = 12\n",
    "\n",
    "В качестве метрик для оценки работы модели использовались:\n",
    "* Cреднеквадратичная ошибка (rmse)\n",
    "* Коэффициент детерминации (R²)\n",
    "* Коэффициент детерминации полученный при обучении\n",
    "\n",
    "Наилучшие показатели при обучение получились у модели GradientBoostingRegressor, однако после валидации на тестовых данных, модель RandomForestRegressor показала наилучшие результаты.\n"
   ]
  }
 ],
 "metadata": {
  "kernelspec": {
   "display_name": ".venv",
   "language": "python",
   "name": "python3"
  },
  "language_info": {
   "codemirror_mode": {
    "name": "ipython",
    "version": 3
   },
   "file_extension": ".py",
   "mimetype": "text/x-python",
   "name": "python",
   "nbconvert_exporter": "python",
   "pygments_lexer": "ipython3",
   "version": "3.13.2"
  }
 },
 "nbformat": 4,
 "nbformat_minor": 5
}
